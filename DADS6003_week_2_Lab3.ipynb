{
  "cells": [
    {
      "cell_type": "markdown",
      "metadata": {
        "id": "view-in-github",
        "colab_type": "text"
      },
      "source": [
        "<a href=\"https://colab.research.google.com/github/maxvcbhan/DADS6003-week02/blob/main/DADS6003_week_2_Lab3.ipynb\" target=\"_parent\"><img src=\"https://colab.research.google.com/assets/colab-badge.svg\" alt=\"Open In Colab\"/></a>"
      ]
    },
    {
      "cell_type": "markdown",
      "metadata": {
        "id": "IR9ZdTd2JONK"
      },
      "source": [
        "# Multivariate linear regresion\n"
      ]
    },
    {
      "cell_type": "markdown",
      "source": [],
      "metadata": {
        "id": "Jhydk9nfml6T"
      }
    },
    {
      "cell_type": "code",
      "source": [
        "!pip install ipython-autotime\n",
        "%load_ext autotime"
      ],
      "metadata": {
        "id": "op-hHEW5p3_Z",
        "outputId": "35d13aab-d03f-4875-f501-89da31a49078",
        "colab": {
          "base_uri": "https://localhost:8080/"
        }
      },
      "execution_count": 1,
      "outputs": [
        {
          "output_type": "stream",
          "name": "stdout",
          "text": [
            "Collecting ipython-autotime\n",
            "  Downloading ipython_autotime-0.3.2-py2.py3-none-any.whl.metadata (1.4 kB)\n",
            "Requirement already satisfied: ipython in /usr/local/lib/python3.10/dist-packages (from ipython-autotime) (7.34.0)\n",
            "Requirement already satisfied: setuptools>=18.5 in /usr/local/lib/python3.10/dist-packages (from ipython->ipython-autotime) (71.0.4)\n",
            "Collecting jedi>=0.16 (from ipython->ipython-autotime)\n",
            "  Using cached jedi-0.19.1-py2.py3-none-any.whl.metadata (22 kB)\n",
            "Requirement already satisfied: decorator in /usr/local/lib/python3.10/dist-packages (from ipython->ipython-autotime) (4.4.2)\n",
            "Requirement already satisfied: pickleshare in /usr/local/lib/python3.10/dist-packages (from ipython->ipython-autotime) (0.7.5)\n",
            "Requirement already satisfied: traitlets>=4.2 in /usr/local/lib/python3.10/dist-packages (from ipython->ipython-autotime) (5.7.1)\n",
            "Requirement already satisfied: prompt-toolkit!=3.0.0,!=3.0.1,<3.1.0,>=2.0.0 in /usr/local/lib/python3.10/dist-packages (from ipython->ipython-autotime) (3.0.47)\n",
            "Requirement already satisfied: pygments in /usr/local/lib/python3.10/dist-packages (from ipython->ipython-autotime) (2.16.1)\n",
            "Requirement already satisfied: backcall in /usr/local/lib/python3.10/dist-packages (from ipython->ipython-autotime) (0.2.0)\n",
            "Requirement already satisfied: matplotlib-inline in /usr/local/lib/python3.10/dist-packages (from ipython->ipython-autotime) (0.1.7)\n",
            "Requirement already satisfied: pexpect>4.3 in /usr/local/lib/python3.10/dist-packages (from ipython->ipython-autotime) (4.9.0)\n",
            "Requirement already satisfied: parso<0.9.0,>=0.8.3 in /usr/local/lib/python3.10/dist-packages (from jedi>=0.16->ipython->ipython-autotime) (0.8.4)\n",
            "Requirement already satisfied: ptyprocess>=0.5 in /usr/local/lib/python3.10/dist-packages (from pexpect>4.3->ipython->ipython-autotime) (0.7.0)\n",
            "Requirement already satisfied: wcwidth in /usr/local/lib/python3.10/dist-packages (from prompt-toolkit!=3.0.0,!=3.0.1,<3.1.0,>=2.0.0->ipython->ipython-autotime) (0.2.13)\n",
            "Downloading ipython_autotime-0.3.2-py2.py3-none-any.whl (7.0 kB)\n",
            "Using cached jedi-0.19.1-py2.py3-none-any.whl (1.6 MB)\n",
            "Installing collected packages: jedi, ipython-autotime\n",
            "Successfully installed ipython-autotime-0.3.2 jedi-0.19.1\n",
            "time: 517 µs (started: 2024-08-25 01:57:02 +00:00)\n"
          ]
        }
      ]
    },
    {
      "cell_type": "markdown",
      "metadata": {
        "id": "LMd2JbV8JONN"
      },
      "source": [
        "## 1.1 Normal equation (Numpy version)"
      ]
    },
    {
      "cell_type": "code",
      "execution_count": 2,
      "metadata": {
        "_cell_guid": "b1076dfc-b9ad-4769-8c92-a6c4dae69d19",
        "_uuid": "8f2839f25d086af736a60e9eeb907d3b93b6e0e5",
        "id": "gTzq8DsWJONN",
        "outputId": "72dc1b59-3c88-4384-a6ae-ff0c24865467",
        "colab": {
          "base_uri": "https://localhost:8080/",
          "height": 544
        }
      },
      "outputs": [
        {
          "output_type": "stream",
          "name": "stdout",
          "text": [
            "theta =  [ 7. 15. -6.]\n",
            "y predict =  [13.]\n",
            "data =  [(0, 1), (2, 1), (3, 4)]\n"
          ]
        },
        {
          "output_type": "display_data",
          "data": {
            "text/plain": [
              "<Figure size 640x480 with 1 Axes>"
            ],
            "image/png": "[encoded data removed]"
          },
          "metadata": {}
        },
        {
          "output_type": "stream",
          "name": "stdout",
          "text": [
            "time: 3.29 s (started: 2024-08-25 01:57:02 +00:00)\n"
          ]
        }
      ],
      "source": [
        "import numpy as np\n",
        "np.set_printoptions(precision=2)\n",
        "from sklearn.datasets import make_regression\n",
        "\n",
        "#x, y = make_regression(n_samples=10, n_features=2, noise=2, random_state=123)\n",
        "#x = np.array([[0,2,3],[1,6,8]]).T\n",
        "x = np.array([[0,1],[2,6],[3,8]]) #x1, x2\n",
        "y = np.array([1,1,4])\n",
        "\n",
        "x_b = np.c_[np.ones((x.shape[0],1)),x]\n",
        "\n",
        "#call inverse function from linear algebra module\n",
        "theta = np.linalg.pinv(x_b.T.dot(x_b)).dot(x_b.T).dot(y)\n",
        "print(\"theta = \", theta)\n",
        "\n",
        "#predict trainned x\n",
        "xtest = np.array([[4,9]])\n",
        "xtest_b = np.c_[np.ones((xtest.shape[0],1)),xtest]\n",
        "y_p = xtest_b.dot(theta)\n",
        "print(\"y predict = \",y_p)\n",
        "\n",
        "import matplotlib.pyplot as plt\n",
        "\n",
        "#Create the title\n",
        "exp = \"\"\n",
        "plus = \"+\"\n",
        "for t in range(len(theta)):\n",
        "  if t == len(theta)-1:\n",
        "    plus = \"\"\n",
        "  if t == 0:\n",
        "    xterm = \"\"\n",
        "  else:\n",
        "    xterm = r\"$x_\"+str(t)+\"$\"\n",
        "  exp += str(np.round(theta[t],2)) + xterm + plus\n",
        "#end create the title\n",
        "\n",
        "plt.title(\"y = \"+exp)\n",
        "data = sorted(zip(x[:,0],y))\n",
        "print(\"data = \", data)\n",
        "x_val = [x[0] for x in data]\n",
        "y_val = [x[1] for x in data]\n",
        "\n",
        "plt.plot(x_val, y_val, \"b.\")\n",
        "plt.xlabel(r'$x_1$')\n",
        "plt.ylabel(r'$y$')\n",
        "\n",
        "plt.show()\n"
      ]
    },
    {
      "cell_type": "code",
      "source": [
        "ax = plt.figure().add_subplot(projection='3d')\n",
        "\n",
        "xs = x[:,0]\n",
        "ys = x[:,1]\n",
        "zs = y\n",
        "\n",
        "for x1, x2, _y in zip(xs, ys, zs):\n",
        "  label = '(%d, %d, %d)' % (x1, x2, _y)\n",
        "  ax.text(x1, x2, _y, label, 'x')\n",
        "  ax.scatter(x1, x2, zs=_y)\n",
        "\n",
        "ax.set_xlim(-2, 6)\n",
        "ax.set_ylim(0, 6)\n",
        "ax.set_zlim(-2, 8)\n",
        "ax.set_xlabel(r'$X_1$')\n",
        "ax.set_ylabel(r'$X_2$')\n",
        "ax.set_zlabel('Y')\n",
        "\n",
        "plt.show()"
      ],
      "metadata": {
        "colab": {
          "base_uri": "https://localhost:8080/",
          "height": 436
        },
        "id": "mzOqCBTd7JTs",
        "outputId": "b0a7ee65-1cf2-4ad7-e299-029eb5db686f"
      },
      "execution_count": 3,
      "outputs": [
        {
          "output_type": "display_data",
          "data": {
            "text/plain": [
              "<Figure size 640x480 with 1 Axes>"
            ],
            "image/png": "[encoded data removed]"
          },
          "metadata": {}
        },
        {
          "output_type": "stream",
          "name": "stdout",
          "text": [
            "time: 810 ms (started: 2024-08-25 01:57:06 +00:00)\n"
          ]
        }
      ]
    },
    {
      "cell_type": "markdown",
      "metadata": {
        "id": "cHMj49QGJONQ"
      },
      "source": [
        "Exercise1 <br>\n",
        "1.1 Change a number of features to 4 (x1,x2,x3,x4) and plot 4 graphs </br>\n",
        "1.2 Change a number of features to 2 (x1,x2) and use plotly to plot 3D visualization (x1,x2,y)."
      ]
    },
    {
      "cell_type": "markdown",
      "metadata": {
        "id": "SEsehC1aJONR"
      },
      "source": [
        "# **Sklearn**"
      ]
    },
    {
      "cell_type": "code",
      "execution_count": 4,
      "metadata": {
        "_cell_guid": "79c7e3d0-c299-4dcb-8224-4455121ee9b0",
        "_uuid": "d629ff2d2480ee46fbb7e2d37f6b5fab8052498a",
        "id": "K0nd1HtqJONR",
        "outputId": "eb3e465c-f6bd-4530-c253-eb34d67799bb",
        "colab": {
          "base_uri": "https://localhost:8080/"
        }
      },
      "outputs": [
        {
          "output_type": "stream",
          "name": "stdout",
          "text": [
            "6.999999999999989  ,  [15. -6.]\n",
            "y predict =  [13.]\n",
            "time: 332 ms (started: 2024-08-25 01:57:06 +00:00)\n"
          ]
        }
      ],
      "source": [
        "import numpy as np\n",
        "from sklearn.linear_model import LinearRegression\n",
        "\n",
        "lin_reg = LinearRegression()\n",
        "lin_reg.fit(x, y)\n",
        "print(lin_reg.intercept_, \" , \", lin_reg.coef_)\n",
        "\n",
        "#prediction\n",
        "y_p = lin_reg.predict(xtest)\n",
        "print(\"y predict = \",y_p)"
      ]
    },
    {
      "cell_type": "markdown",
      "metadata": {
        "id": "elLXFrvqJONS"
      },
      "source": [
        "# **Batch Gradient descent (Multiple linear regression)**\n"
      ]
    },
    {
      "cell_type": "code",
      "source": [
        "def cost_function(theta, x, y, N):\n",
        "  y_hat = x.dot(theta)\n",
        "  c = (1/(2*N))*np.sum((y_hat-y)**2)\n",
        "  return c"
      ],
      "metadata": {
        "id": "opMZlBMPT7nF",
        "colab": {
          "base_uri": "https://localhost:8080/"
        },
        "outputId": "aa1fc447-df39-42ff-bbe9-352a4625c09f"
      },
      "execution_count": 5,
      "outputs": [
        {
          "output_type": "stream",
          "name": "stdout",
          "text": [
            "time: 779 µs (started: 2024-08-25 01:57:07 +00:00)\n"
          ]
        }
      ]
    },
    {
      "cell_type": "code",
      "source": [
        "def gradient_descent(alpha, x, y, ep=0.001, max_iter=10000):\n",
        "  converged = False\n",
        "  iter = 0\n",
        "  N = x.shape[0] # number of samples\n",
        "  print(\"Num of data = \",N)\n",
        "\n",
        "  # initial theta\n",
        "  theta =  np.random.random((x.shape[1],1))\n",
        "  print(\"Init theta.shape = \",theta.shape)\n",
        "\n",
        "  # total error, J(theta)\n",
        "  J = cost_function(theta, x, y, N)\n",
        "  print(\"First J = \",J)\n",
        "\n",
        "  # Iterate Loop\n",
        "  while not converged:\n",
        "    print(f\" x : {x}\")\n",
        "    print(f\" theta: {theta}\")\n",
        "    y_hat = x.dot(theta)\n",
        "    diff = y_hat - y\n",
        "    grad = x.T.dot(diff)\n",
        "\n",
        "    theta = theta - alpha * (1/N) * (grad)\n",
        "\n",
        "    assert theta.shape == (3,1) #This line makes sure that the shape of theta is still be the same.\n",
        "\n",
        "    # error\n",
        "    J2 = cost_function(theta, x, y, N)\n",
        "\n",
        "    if abs(J-J2) <= ep:\n",
        "        print(\"       Converged, iterations: \", iter, \"/\", max_iter)\n",
        "        converged = True\n",
        "\n",
        "    J = J2   # update error s\n",
        "    iter += 1  # update iter\n",
        "\n",
        "    if iter == max_iter:\n",
        "        print('       Max iterations exceeded!')\n",
        "        converged = True\n",
        "    break\n",
        "  #print(\"End converged iter = \",iter)\n",
        "  return theta"
      ],
      "metadata": {
        "id": "Rm-nUjmZTJgg",
        "colab": {
          "base_uri": "https://localhost:8080/"
        },
        "outputId": "5a36d457-8430-432f-b251-103ffa47f6f8"
      },
      "execution_count": 6,
      "outputs": [
        {
          "output_type": "stream",
          "name": "stdout",
          "text": [
            "time: 1.49 ms (started: 2024-08-25 01:57:07 +00:00)\n"
          ]
        }
      ]
    },
    {
      "cell_type": "code",
      "source": [
        "if __name__ == '__main__':\n",
        "\n",
        "  print(\"start main\")\n",
        "  print(x_b.shape)\n",
        "  y = y.reshape(-1,1)\n",
        "  print(y.shape)\n",
        "\n",
        "  alpha = 0.01 # learning rate\n",
        "  #Training process\n",
        "  theta = gradient_descent(alpha, x_b, y, ep=0.000000000001, max_iter=1000000)\n",
        "  print (\"Theta = \", theta)\n",
        "\n",
        "  #predict trainned x\n",
        "  xtest = np.array([[4,9]])\n",
        "  xtest_b = np.c_[np.ones((xtest.shape[0],1)),xtest]\n",
        "  y_p = xtest_b.dot(theta)\n",
        "  print(\"y predict = \",y_p)\n",
        "\n"
      ],
      "metadata": {
        "id": "2gfzCy1yTNVC",
        "outputId": "3e505134-a47c-49c4-c598-c3484eacd52c",
        "colab": {
          "base_uri": "https://localhost:8080/"
        }
      },
      "execution_count": 7,
      "outputs": [
        {
          "output_type": "stream",
          "name": "stdout",
          "text": [
            "start main\n",
            "(3, 3)\n",
            "(3, 1)\n",
            "Num of data =  3\n",
            "Init theta.shape =  (3, 1)\n",
            "First J =  0.772447960322632\n",
            " x : [[1. 0. 1.]\n",
            " [1. 2. 6.]\n",
            " [1. 3. 8.]]\n",
            " theta: [[0.43]\n",
            " [0.5 ]\n",
            " [0.01]]\n",
            "Theta =  [[0.43]\n",
            " [0.51]\n",
            " [0.05]]\n",
            "y predict =  [[2.97]]\n",
            "time: 7.71 ms (started: 2024-08-25 01:57:07 +00:00)\n"
          ]
        }
      ]
    },
    {
      "cell_type": "markdown",
      "metadata": {
        "id": "q3LSmwS-JONU"
      },
      "source": [
        "# Stochastic GD\n",
        "## Your turn :)"
      ]
    },
    {
      "cell_type": "code",
      "source": [
        "def gradient_descent_SGD(alpha, x, y, ep=0.001, max_iter=10000):\n",
        "  converged = False\n",
        "  iter = 0\n",
        "  N = x.shape[0] # number of samples\n",
        "  print(\"Num of data = \",N)\n",
        "  print(f\" x: {x}\")\n",
        "  print(f\" y: {y}\")\n",
        "  random_row = np.random.randint(N)\n",
        "  print(f\" x : {random_row}\")\n",
        "  x = np.array([x[random_row]])\n",
        "  y = np.array([y[random_row]])\n",
        "  print(f\" x after random  : {x}\")\n",
        "  print(f\" y after random  : {y}\")\n",
        "  # return\n",
        "  # initial theta\n",
        "  theta =  np.random.random((x.shape[1],1))\n",
        "  print(\"Init theta.shape = \",theta.shape)\n",
        "  print(f\"theta : {theta}\")\n",
        "  # total error, J(theta)\n",
        "  J = cost_function(theta, x, y, N)\n",
        "  print(\"First J = \",J)\n",
        "\n",
        "  # Iterate Loop\n",
        "  while not converged:\n",
        "    y_hat = x.dot(theta)\n",
        "    diff = y_hat - y\n",
        "    grad = x.T.dot(diff)\n",
        "\n",
        "    theta = theta - alpha * (1/N) * (grad)\n",
        "\n",
        "    assert theta.shape == (3,1) #This line makes sure that the shape of theta is still be the same.\n",
        "\n",
        "    # error\n",
        "    J2 = cost_function(theta, x, y, N)\n",
        "\n",
        "    if abs(J-J2) <= ep:\n",
        "        print(\"       Converged, iterations: \", iter, \"/\", max_iter)\n",
        "        converged = True\n",
        "\n",
        "    J = J2   # update error s\n",
        "    iter += 1  # update iter\n",
        "\n",
        "    if iter == max_iter:\n",
        "        print('       Max iterations exceeded!')\n",
        "        converged = True\n",
        "\n",
        "  #print(\"End converged iter = \",iter)\n",
        "  return theta\n",
        "\n",
        "\n",
        "print(\"start main\")\n",
        "print(x_b.shape)\n",
        "\n",
        "y = y.reshape(-1,1)\n",
        "print(y.shape)\n",
        "\n",
        "alpha = 0.01 # learning rate\n",
        "#Training process\n",
        "theta = gradient_descent_SGD(alpha, x_b, y, ep=0.000000000001, max_iter=1000000)\n",
        "print (\"Theta = \", theta)\n",
        "\n",
        "#predict trainned x\n",
        "xtest = np.array([[4,9]])\n",
        "xtest_b = np.c_[np.ones((xtest.shape[0],1)),xtest]\n",
        "y_p = xtest_b.dot(theta)\n",
        "print(\"y predict = \",y_p)"
      ],
      "metadata": {
        "id": "7Jgt4X7gmykC",
        "outputId": "beb8904a-ed72-44f5-f182-0b47fb40162d",
        "colab": {
          "base_uri": "https://localhost:8080/"
        }
      },
      "execution_count": 8,
      "outputs": [
        {
          "output_type": "stream",
          "name": "stdout",
          "text": [
            "start main\n",
            "(3, 3)\n",
            "(3, 1)\n",
            "Num of data =  3\n",
            " x: [[1. 0. 1.]\n",
            " [1. 2. 6.]\n",
            " [1. 3. 8.]]\n",
            " y: [[1]\n",
            " [1]\n",
            " [4]]\n",
            " x : 1\n",
            " x after random  : [[1. 2. 6.]]\n",
            " y after random  : [[1]]\n",
            "Init theta.shape =  (3, 1)\n",
            "theta : [[0.92]\n",
            " [0.16]\n",
            " [0.8 ]]\n",
            "First J =  4.209766763667089\n",
            "       Converged, iterations:  95 / 1000000\n",
            "Theta =  [[ 0.8 ]\n",
            " [-0.08]\n",
            " [ 0.06]]\n",
            "y predict =  [[1.02]]\n",
            "time: 26.8 ms (started: 2024-08-25 01:57:07 +00:00)\n"
          ]
        }
      ]
    },
    {
      "cell_type": "code",
      "source": [
        "if __name__ == '__main__':\n",
        "\n",
        "  print(\"start main\")\n",
        "  print(x_b.shape)\n",
        "  y = y.reshape(-1,1)\n",
        "  print(y.shape)\n",
        "\n",
        "  alpha = 0.01 # learning rate\n",
        "  #Training process\n",
        "  theta = gradient_descent_SGD(alpha, x_b, y, ep=0.000000000001, max_iter=1000000)\n",
        "  print (\"Theta = \", theta)\n",
        "\n",
        "  #predict trainned x\n",
        "  xtest = np.array([[4,9]])\n",
        "  xtest_b = np.c_[np.ones((xtest.shape[0],1)),xtest]\n",
        "  y_p = xtest_b.dot(theta)\n",
        "  print(\"y predict = \",y_p)\n"
      ],
      "metadata": {
        "colab": {
          "base_uri": "https://localhost:8080/"
        },
        "id": "N36lGkMA8aZv",
        "outputId": "fb946d78-5697-4155-f354-630bdc30f4d7"
      },
      "execution_count": 9,
      "outputs": [
        {
          "output_type": "stream",
          "name": "stdout",
          "text": [
            "start main\n",
            "(3, 3)\n",
            "(3, 1)\n",
            "Num of data =  3\n",
            " x: [[1. 0. 1.]\n",
            " [1. 2. 6.]\n",
            " [1. 3. 8.]]\n",
            " y: [[1]\n",
            " [1]\n",
            " [4]]\n",
            " x : 0\n",
            " x after random  : [[1. 0. 1.]]\n",
            " y after random  : [[1]]\n",
            "Init theta.shape =  (3, 1)\n",
            "theta : [[0.84]\n",
            " [0.46]\n",
            " [0.24]]\n",
            "First J =  0.0009307048245711994\n",
            "       Converged, iterations:  1221 / 1000000\n",
            "Theta =  [[0.8 ]\n",
            " [0.46]\n",
            " [0.2 ]]\n",
            "y predict =  [[4.46]]\n",
            "time: 62.4 ms (started: 2024-08-25 01:57:07 +00:00)\n"
          ]
        }
      ]
    },
    {
      "cell_type": "markdown",
      "metadata": {
        "id": "EDicYUpzJONV"
      },
      "source": [
        "# Mini-batch GD (size = 10)\n",
        "## Your turn :)"
      ]
    },
    {
      "cell_type": "code",
      "source": [
        "def gradient_descent_mini_batch(alpha, x, y, ep=0.001, max_iter=10000):\n",
        "  converged = False\n",
        "  iter = 0\n",
        "  N = x.shape[0] # number of samples\n",
        "  print(\"Num of data = \",N)\n",
        "  print(f\" x: {x}\")\n",
        "  print(f\" y: {y}\")\n",
        "  merged_array = np.concatenate((x, y), axis=1)\n",
        "  np.random.shuffle(merged_array)\n",
        "  batch = merged_array[:2]\n",
        "  print(f\" batch shuffle {batch}\")\n",
        "  x = batch[:, :3]\n",
        "  y = batch[:, 3:]\n",
        "  y = y\n",
        "  print(f\" x after random  : {x}\")\n",
        "  print(f\" y after random  : {y}\")\n",
        "\n",
        "  # initial theta\n",
        "  theta =  np.random.random((x.shape[1],1))\n",
        "  print(\"Init theta.shape = \",theta.shape)\n",
        "  print(f\"theta : {theta}\")\n",
        "  # total error, J(theta)\n",
        "  J = cost_function(theta, x, y, N)\n",
        "  print(\"First J = \",J)\n",
        "\n",
        "  # Iterate Loop\n",
        "  while not converged:\n",
        "    y_hat = x.dot(theta)\n",
        "    diff = y_hat - y\n",
        "    grad = x.T.dot(diff)\n",
        "\n",
        "    theta = theta - alpha * (1/N) * (grad)\n",
        "\n",
        "    assert theta.shape == (3,1) #This line makes sure that the shape of theta is still be the same.\n",
        "\n",
        "    # error\n",
        "    J2 = cost_function(theta, x, y, N)\n",
        "\n",
        "    if abs(J-J2) <= ep:\n",
        "        print(\"       Converged, iterations: \", iter, \"/\", max_iter)\n",
        "        converged = True\n",
        "\n",
        "    J = J2   # update error s\n",
        "    iter += 1  # update iter\n",
        "\n",
        "    if iter == max_iter:\n",
        "        print('       Max iterations exceeded!')\n",
        "        converged = True\n",
        "\n",
        "  #print(\"End converged iter = \",iter)\n",
        "  return theta"
      ],
      "metadata": {
        "colab": {
          "base_uri": "https://localhost:8080/"
        },
        "id": "inwSEJA-PYrU",
        "outputId": "4d31e05d-f729-4d94-c091-180f3eed9b77"
      },
      "execution_count": 52,
      "outputs": [
        {
          "output_type": "stream",
          "name": "stdout",
          "text": [
            "time: 3.5 ms (started: 2024-08-25 02:21:37 +00:00)\n"
          ]
        }
      ]
    },
    {
      "cell_type": "code",
      "source": [
        "if __name__ == '__main__':\n",
        "\n",
        "  print(\"start main\")\n",
        "  print(x_b.shape)\n",
        "  y = y.reshape(-1,1)\n",
        "  print(y.shape)\n",
        "\n",
        "  alpha = 0.01 # learning rate\n",
        "  #Training process\n",
        "  theta = gradient_descent_mini_batch(alpha, x_b, y, ep=0.000000000001, max_iter=1000000)\n",
        "  print (\"Theta = \", theta)\n",
        "\n",
        "  #predict trainned x\n",
        "  xtest = np.array([[4,9]])\n",
        "  xtest_b = np.c_[np.ones((xtest.shape[0],1)),xtest]\n",
        "  y_p = xtest_b.dot(theta)\n",
        "  print(\"y predict = \",y_p)\n"
      ],
      "metadata": {
        "colab": {
          "base_uri": "https://localhost:8080/"
        },
        "id": "0g0YCaGnPdi3",
        "outputId": "10904c6a-c6f6-4774-c201-6763f769aea6"
      },
      "execution_count": 53,
      "outputs": [
        {
          "output_type": "stream",
          "name": "stdout",
          "text": [
            "start main\n",
            "(3, 3)\n",
            "(3, 1)\n",
            "Num of data =  3\n",
            " x: [[1. 3. 8.]\n",
            " [1. 0. 1.]\n",
            " [2. 6. 1.]]\n",
            " y: [[1]\n",
            " [1]\n",
            " [4]]\n",
            " batch shuffle [[1. 3. 8. 1.]\n",
            " [2. 6. 1. 4.]]\n",
            " x after random  : [[1. 3. 8.]\n",
            " [2. 6. 1.]]\n",
            " y after random  : [[1.]\n",
            " [4.]]\n",
            "Init theta.shape =  (3, 1)\n",
            "theta : [[0.74]\n",
            " [0.87]\n",
            " [0.98]]\n",
            "First J =  19.52170932761798\n",
            "       Converged, iterations:  145 / 1000000\n",
            "Theta =  [[ 0.61]\n",
            " [ 0.48]\n",
            " [-0.13]]\n",
            "y predict =  [[1.35]]\n",
            "time: 36.9 ms (started: 2024-08-25 02:21:40 +00:00)\n"
          ]
        }
      ]
    },
    {
      "cell_type": "markdown",
      "metadata": {
        "id": "0BvXPq1FJONW"
      },
      "source": [
        "# Polynomial regression\n",
        "Reference: https://towardsdatascience.com/machine-learning-polynomial-regression-with-python-5328e4e8a386"
      ]
    },
    {
      "cell_type": "code",
      "execution_count": null,
      "metadata": {
        "id": "ZFoOB7-1JONW"
      },
      "outputs": [],
      "source": [
        "import numpy as np\n",
        "import matplotlib.pyplot as plt\n",
        "import pandas as pd\n",
        "\n",
        "# Importing the dataset\n",
        "df = pd.read_csv('https://raw.githubusercontent.com/ekaratnida/Applied-machine-learning/master/Week03-MLR/Position_Salaries.csv')\n",
        "X = df.iloc[:, 1:2].values\n",
        "y = df.iloc[:, 2].values\n",
        "print(df.head())"
      ]
    },
    {
      "cell_type": "code",
      "execution_count": null,
      "metadata": {
        "id": "Ksf7VFwaJONX"
      },
      "outputs": [],
      "source": [
        "# Fitting Linear Regression to the dataset\n",
        "from sklearn.linear_model import LinearRegression\n",
        "lin_reg = LinearRegression()\n",
        "lin_reg.fit(X, y)\n",
        "print(y)\n",
        "# Visualizing the Linear Regression results\n",
        "\n",
        "plt.scatter(X, y, color='red')\n",
        "plt.plot(X, lin_reg.predict(X), color='blue')\n",
        "plt.title('Truth or Bluff (Linear Regression)')\n",
        "plt.xlabel('Position level')\n",
        "plt.ylabel('Salary')\n",
        "plt.show()\n"
      ]
    },
    {
      "cell_type": "code",
      "execution_count": null,
      "metadata": {
        "id": "nhivx0cQJONX"
      },
      "outputs": [],
      "source": [
        "# Fitting Polynomial Regression to the dataset\n",
        "from sklearn.preprocessing import PolynomialFeatures\n",
        "poly_reg = PolynomialFeatures(degree=2)\n",
        "X_poly = poly_reg.fit_transform(X)\n",
        "print(X_poly)\n",
        "pol_reg = LinearRegression()\n",
        "pol_reg.fit(X_poly, y)\n",
        "\n",
        "# Visualizing the Polymonial Regression results\n",
        "plt.figure(figsize=(6,4))\n",
        "plt.scatter(X, y, color='red')\n",
        "plt.plot(X, lin_reg.predict(X), color='green')\n",
        "plt.plot(X, pol_reg.predict(X_poly), color='blue')\n",
        "plt.title('Truth or Bluff (Linear Regression)')\n",
        "plt.xlabel('Position level')\n",
        "plt.ylabel('Salary')\n",
        "plt.show()\n"
      ]
    },
    {
      "cell_type": "code",
      "execution_count": null,
      "metadata": {
        "id": "e0Vog6EbJONY"
      },
      "outputs": [],
      "source": [
        "# Predicting a new result with Linear Regression\n",
        "print(lin_reg.predict([[5.5]]))\n",
        "\n",
        "# Predicting a new result with Polymonial Regression\n",
        "print(pol_reg.predict(poly_reg.fit_transform([[5.5]])))"
      ]
    }
  ],
  "metadata": {
    "kernelspec": {
      "display_name": "Python 3",
      "language": "python",
      "name": "python3"
    },
    "language_info": {
      "codemirror_mode": {
        "name": "ipython",
        "version": 3
      },
      "file_extension": ".py",
      "mimetype": "text/x-python",
      "name": "python",
      "nbconvert_exporter": "python",
      "pygments_lexer": "ipython3",
      "version": "3.7.4"
    },
    "colab": {
      "provenance": [],
      "include_colab_link": true
    }
  },
  "nbformat": 4,
  "nbformat_minor": 0
}